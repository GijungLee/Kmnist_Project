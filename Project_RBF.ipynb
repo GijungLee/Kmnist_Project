{
 "cells": [
  {
   "cell_type": "code",
   "execution_count": 1,
   "metadata": {},
   "outputs": [],
   "source": [
    "import numpy as np\n",
    "import time\n",
    "import re\n",
    "import sys\n",
    "import math\n",
    "import matplotlib.pyplot as plt\n",
    "from tensorflow.keras.utils import to_categorical\n",
    "from tqdm import tqdm"
   ]
  },
  {
   "cell_type": "code",
   "execution_count": 2,
   "metadata": {},
   "outputs": [],
   "source": [
    "random_train_imgs = np.load(\"data/kmnist-randomized-train-imgs.npz\")[\"arr_0\"]\n",
    "random_train_labels = np.load(\"data/kmnist-randomized-train-labels.npz\")[\"arr_0\"]\n",
    "random_test_imgs = np.load(\"data/kmnist-randomized-test-imgs.npz\")[\"arr_0\"]\n",
    "random_test_labels = np.load(\"data/kmnist-randomized-test-labels.npz\")[\"arr_0\"]"
   ]
  },
  {
   "cell_type": "code",
   "execution_count": 3,
   "metadata": {},
   "outputs": [],
   "source": [
    "X_train = random_train_imgs.reshape(60000, 784)\n",
    "X_train = X_train.astype(\"float32\") / 255\n",
    "X_test = random_test_imgs.reshape(10000, 784)\n",
    "X_test = X_test.astype(\"float32\") / 255\n",
    "y_train = to_categorical(random_train_labels, 10)\n",
    "y_test = to_categorical(random_test_labels, 10)"
   ]
  },
  {
   "cell_type": "code",
   "execution_count": 4,
   "metadata": {},
   "outputs": [
    {
     "data": {
      "text/plain": [
       "<matplotlib.image.AxesImage at 0x7faa26273f90>"
      ]
     },
     "execution_count": 4,
     "metadata": {},
     "output_type": "execute_result"
    },
    {
     "data": {
      "image/png": "[encoded data removed]",
      "text/plain": [
       "<Figure size 432x288 with 1 Axes>"
      ]
     },
     "metadata": {
      "needs_background": "light"
     },
     "output_type": "display_data"
    }
   ],
   "source": [
    "plt.imshow(X_train[10].reshape(28, 28))"
   ]
  },
  {
   "cell_type": "code",
   "execution_count": 31,
   "metadata": {},
   "outputs": [],
   "source": [
    "import numpy as np\n",
    "import time\n",
    "import re\n",
    "import sys\n",
    "import math\n",
    "import matplotlib.pyplot as plt\n",
    "\n",
    "np.set_printoptions(threshold=sys.maxsize, suppress=True)\n",
    "np.random.seed(1)\n",
    "\n",
    "def kMeansClustering(K, sampleData):\n",
    "    \"\"\"Find K cluster centeriods of the passed sampleData\n",
    "    \"\"\"\n",
    "    # Randomly select K examples as starting point for centeriods\n",
    "    randIndices = np.random.choice(sampleData.shape[0], size=K, replace=False)\n",
    "    centeriods = sampleData[randIndices, :]\n",
    "\n",
    "    dataSize = 10000\n",
    "    data = sampleData[:dataSize]\n",
    "    for i in range(15):\n",
    "        centeriodSums = np.zeros(shape=centeriods.shape)\n",
    "        centeriodSumsCounter = np.zeros(shape=K)\n",
    "\n",
    "        # 1. Allocate a training example to its nearest centriod\n",
    "        for x in data:\n",
    "             # Get index of closest centeriod to X (minimum of ||C - X||)\n",
    "            index = np.argmin(np.square(centeriods - x).sum(axis=1))\n",
    "            centeriodSums[index] += x\n",
    "            centeriodSumsCounter[index] += 1\n",
    "        \n",
    "        # 2. Reassign the centriods to new means\n",
    "        for i in range(K):\n",
    "            centeriods[i] = centeriodSums[i] / centeriodSumsCounter[i]\n",
    "    \n",
    "    return centeriods\n",
    "\n",
    "class Network:\n",
    "    def __init__(self):\n",
    "        self.XSize = 0\n",
    "        self.HSize = 300\n",
    "        self.OSize = 10\n",
    "        self.X = []\n",
    "        self.C = []\n",
    "        self.Y = []\n",
    "        self.W = []\n",
    "        # self.B = np.random.uniform(-1, 1, (self.OSize))\n",
    "        self.trainErrors = []\n",
    "        self.testErrors = []\n",
    "\n",
    "    def loadData(self, X, y, sampleSize):\n",
    "        \"\"\"Loads training/test data\\n\n",
    "        Parameters:\\n\n",
    "        - filenameX: filename for X features\\n\n",
    "        - filenameY: filename for Y (labels)\\n\n",
    "        - sampleSize: number of examples in dataset\n",
    "        \"\"\"\n",
    "        self.X = X\n",
    "        self.Y = y\n",
    "        self.XSize = sampleSize\n",
    "\n",
    "    def initializeCenters(self, K, useKMeans):\n",
    "        \"\"\"Initializes Centers (for RBF neurons in hidden layer)\\n\n",
    "        Parameters:\\n\n",
    "        - useKMeans: Set to true to use kMeans clustering to get centroids\n",
    "        \"\"\"\n",
    "        print(\"Initialzing Centers...\")\n",
    "        self.HSize = K      # Since centriods is equal to hidden layer neurons\n",
    "        if useKMeans:\n",
    "            self.C = kMeansClustering(K, self.X)\n",
    "        else:\n",
    "            self.C = self.X[: self.HSize]\n",
    "\n",
    "    def train(self, epochs=1, learnRate=0.1, K=300, save_weight=\"weights\", useKMeans=False):\n",
    "        \"\"\"Trains the Network\\n\n",
    "        Parameters:\\n\n",
    "        - epochs: Number of epochs or trainings on entire dataset\n",
    "        - learnRate: Learning Rate\n",
    "        - K: Number of centers/centroids\n",
    "        - useKMeans: Set to true to use kMeans clustering to get centroids\n",
    "        \"\"\"\n",
    "        # Initialzing centers and weights\n",
    "        self.initializeCenters(K, useKMeans)\n",
    "        self.W = np.random.uniform(-1, 1, (self.HSize, self.OSize))\n",
    "\n",
    "        self.trainErrors = np.zeros(shape=self.XSize)  # Preallocating numpy array\n",
    "        print(\"Training...\")\n",
    "        for _ in tqdm(range(epochs)):\n",
    "            # Take each data sample from the inputData\n",
    "            for i, x in enumerate(self.X):\n",
    "                HLayer = rbf(x, self.C)\n",
    "                # Multiply the weights to get output for each data\n",
    "                output = np.dot(HLayer, self.W)  # + self.B\n",
    "                error = output - self.Y[i]\n",
    "                self.W = self.W - (learnRate * np.outer(HLayer, error))\n",
    "                # self.B = self.B - (learnRate * error)\n",
    "                self.trainErrors[i] = 0.5 * sum(error ** 2)\n",
    "        print(\"Training done\")\n",
    "        # Saving weights and centers in a file\n",
    "        np.save(save_weight, self.W)\n",
    "        np.save(\"centers\", self.C)\n",
    "\n",
    "    def predict(self):\n",
    "        \"\"\"Predicts using the Network by the set parameters (weight and\n",
    "        centers) and displays the accuracy\n",
    "        \"\"\"\n",
    "        self.testErrors = np.zeros(shape=self.XSize)  # Preallocating numpy array\n",
    "        print(\"Prediciting...\")\n",
    "        totalAvg = count = correctCount = 0.0\n",
    "        # Take each data sample from the inputData\n",
    "        for count, x in enumerate(self.X):\n",
    "            HLayer = rbf(x, self.C)\n",
    "            output = np.dot(HLayer, self.W)  # + self.B\n",
    "            o = np.argmax(output)\n",
    "            y = np.argmax(self.Y[count])\n",
    "            if o == y:\n",
    "                correctCount += 1\n",
    "\n",
    "            error = output - self.Y[count]\n",
    "            self.testErrors[count] = 0.5 * sum(error ** 2)\n",
    "\n",
    "        totalAvg = (correctCount * 100.0) / (count + 1)\n",
    "        print(f\"Total Avg. Accuracy: {totalAvg} %\")\n",
    "\n",
    "\n",
    "def rbf(x, C, beta=0.05):\n",
    "    \"\"\"Radial Basis Function\\n\n",
    "    Parameters:\\n\n",
    "    x: a training example\n",
    "    C: centers of used for the hidden layer\n",
    "    \"\"\"\n",
    "    H = np.zeros(shape=(np.shape(C)[0]))\n",
    "    for i, c in enumerate(C):  # For each neuron in H layer\n",
    "        H[i] = math.exp((-1 * beta) * np.dot(x - c, x - c))\n",
    "    return H\n",
    "\n",
    "\n",
    "def plotLearningCurves(trainErrors, testErrors):\n",
    "    \"\"\"Plots the learning curves of both training cost and test cost\n",
    "    \"\"\"\n",
    "    # Averaging over the first {avgSize} examples\n",
    "    avgSize = 100\n",
    "    if type(trainErrors) is np.ndarray:     # if trainError data is available\n",
    "        Jtrain = trainErrors.reshape(-1, avgSize).mean(axis=1)\n",
    "        plt.plot(Jtrain, label='Training Cost')\n",
    "    Jtest = testErrors.reshape(-1, avgSize).mean(axis=1)\n",
    "#     plt.plot(Jtest, label='Test Cost')\n",
    "    plt.xlabel(f\"Data examples in {avgSize}s\")\n",
    "    plt.ylabel(\"Loss\")\n",
    "    plt.show()"
   ]
  },
  {
   "cell_type": "code",
   "execution_count": 7,
   "metadata": {},
   "outputs": [
    {
     "name": "stdout",
     "output_type": "stream",
     "text": [
      "1. Train the RBF Network\n",
      "2. Predict using the RBF Network\n",
      "Choose your option: 1\n"
     ]
    },
    {
     "name": "stderr",
     "output_type": "stream",
     "text": [
      "\r",
      "  0%|          | 0/5 [00:00<?, ?it/s]"
     ]
    },
    {
     "name": "stdout",
     "output_type": "stream",
     "text": [
      "Importing data for training...\n",
      "60000 training examples imported in 0.00 sec\n",
      "Initialzing Centers...\n",
      "Training...\n"
     ]
    },
    {
     "name": "stderr",
     "output_type": "stream",
     "text": [
      "100%|██████████| 5/5 [09:25<00:00, 113.01s/it]\n"
     ]
    },
    {
     "name": "stdout",
     "output_type": "stream",
     "text": [
      "Training done\n",
      "Training took: 565.08 sec\n",
      "1. Train the RBF Network\n",
      "2. Predict using the RBF Network\n",
      "Choose your option: 2\n",
      "Enter file name containing weights (default: weights.npy): weights1.npy\n",
      "Importing data for testing...\n",
      "Prediciting...\n",
      "Total Avg. Accuracy: 62.35 %\n"
     ]
    },
    {
     "data": {
      "image/png": "[encoded data removed]",
      "text/plain": [
       "<Figure size 432x288 with 1 Axes>"
      ]
     },
     "metadata": {
      "needs_background": "light"
     },
     "output_type": "display_data"
    },
    {
     "name": "stdout",
     "output_type": "stream",
     "text": [
      "1. Train the RBF Network\n",
      "2. Predict using the RBF Network\n",
      "Choose your option: 3\n",
      "Program exited.\n"
     ]
    }
   ],
   "source": [
    "if __name__ == \"__main__\":\n",
    "    start = time.time()\n",
    "    trainDataSize = 60000\n",
    "    testDataSize = 10000\n",
    "    \n",
    "    myNetwork = Network()\n",
    "    while True:\n",
    "        print(\"1. Train the RBF Network\\n2. Predict using the RBF Network\")\n",
    "        userInput = input(\"Choose your option: \")\n",
    "        if userInput == \"1\":\n",
    "            print(\"Importing data for training...\")\n",
    "            startTime = time.time()\n",
    "            myNetwork.loadData(X_train, y_train, trainDataSize)\n",
    "            print(\n",
    "                f\"{trainDataSize} training examples imported in {time.time()-startTime:.2f} sec\"\n",
    "            )\n",
    "            \n",
    "            startTrainingTime = time.time()\n",
    "            myNetwork.train(epochs=5, learnRate=0.3, K=300, useKMeans=False, save_weight=\"weights1\")\n",
    "            print(f\"Training took: {time.time()-startTrainingTime:.2f} sec\")\n",
    "        elif userInput == \"2\":\n",
    "            # Loading centers and weights from save file\n",
    "            filename = input(\"Enter file name containing weights (default: weights.npy): \")\n",
    "            myNetwork.W = np.load(filename)\n",
    "            myNetwork.C = np.load(\"centers.npy\")\n",
    "\n",
    "            print(\"Importing data for testing...\")\n",
    "            myNetwork.loadData(X_test, y_test, testDataSize)\n",
    "            myNetwork.predict()\n",
    "            # Plotting the errors of the first 10000 examples\n",
    "            plotLearningCurves(myNetwork.trainErrors[:10000], myNetwork.testErrors[:10000])\n",
    "        else:\n",
    "            break\n",
    "    print(\"Program exited.\")"
   ]
  },
  {
   "cell_type": "code",
   "execution_count": 8,
   "metadata": {},
   "outputs": [
    {
     "name": "stderr",
     "output_type": "stream",
     "text": [
      "\r",
      "  0%|          | 0/1 [00:00<?, ?it/s]"
     ]
    },
    {
     "name": "stdout",
     "output_type": "stream",
     "text": [
      "60000 training examples imported in 0.00 sec\n",
      "Initialzing Centers...\n",
      "Training...\n"
     ]
    },
    {
     "name": "stderr",
     "output_type": "stream",
     "text": [
      "100%|██████████| 1/1 [01:55<00:00, 115.22s/it]"
     ]
    },
    {
     "name": "stdout",
     "output_type": "stream",
     "text": [
      "Training done\n",
      "Training took: 115.23 sec\n"
     ]
    },
    {
     "name": "stderr",
     "output_type": "stream",
     "text": [
      "\n"
     ]
    }
   ],
   "source": [
    "start = time.time()\n",
    "trainDataSize = 60000\n",
    "testDataSize = 10000\n",
    "    \n",
    "myNetwork = Network()\n",
    "\n",
    "startTime = time.time()\n",
    "myNetwork.loadData(X_train, y_train, trainDataSize)\n",
    "print(\n",
    "    f\"{trainDataSize} training examples imported in {time.time()-startTime:.2f} sec\"\n",
    ")\n",
    "\n",
    "startTrainingTime = time.time()\n",
    "myNetwork.train(epochs=1, learnRate=0.3, K=300, useKMeans=False, save_weight=\"weights1\")\n",
    "print(f\"Training took: {time.time()-startTrainingTime:.2f} sec\")"
   ]
  },
  {
   "cell_type": "code",
   "execution_count": 9,
   "metadata": {},
   "outputs": [
    {
     "name": "stdout",
     "output_type": "stream",
     "text": [
      "Importing data for testing...\n",
      "Prediciting...\n",
      "Total Avg. Accuracy: 58.07 %\n"
     ]
    },
    {
     "data": {
      "image/png": "[encoded data removed]",
      "text/plain": [
       "<Figure size 432x288 with 1 Axes>"
      ]
     },
     "metadata": {
      "needs_background": "light"
     },
     "output_type": "display_data"
    }
   ],
   "source": [
    "myNetwork.W = np.load(\"weights1.npy\")\n",
    "myNetwork.C = np.load(\"centers.npy\")\n",
    "\n",
    "print(\"Importing data for testing...\")\n",
    "myNetwork.loadData(X_test, y_test, testDataSize)\n",
    "myNetwork.predict()\n",
    "# Plotting the errors of the first 10000 examples\n",
    "plotLearningCurves(myNetwork.trainErrors[:10000], myNetwork.testErrors[:10000])"
   ]
  },
  {
   "cell_type": "code",
   "execution_count": 10,
   "metadata": {},
   "outputs": [
    {
     "name": "stderr",
     "output_type": "stream",
     "text": [
      "\r",
      "  0%|          | 0/10 [00:00<?, ?it/s]"
     ]
    },
    {
     "name": "stdout",
     "output_type": "stream",
     "text": [
      "60000 training examples imported in 0.00 sec\n",
      "Initialzing Centers...\n",
      "Training...\n"
     ]
    },
    {
     "name": "stderr",
     "output_type": "stream",
     "text": [
      "100%|██████████| 10/10 [17:51<00:00, 107.13s/it]"
     ]
    },
    {
     "name": "stdout",
     "output_type": "stream",
     "text": [
      "Training done\n",
      "Training took: 1071.34 sec\n"
     ]
    },
    {
     "name": "stderr",
     "output_type": "stream",
     "text": [
      "\n"
     ]
    }
   ],
   "source": [
    "start = time.time()\n",
    "trainDataSize = 60000\n",
    "testDataSize = 10000\n",
    "    \n",
    "myNetwork = Network()\n",
    "\n",
    "startTime = time.time()\n",
    "myNetwork.loadData(X_train, y_train, trainDataSize)\n",
    "print(\n",
    "    f\"{trainDataSize} training examples imported in {time.time()-startTime:.2f} sec\"\n",
    ")\n",
    "\n",
    "startTrainingTime = time.time()\n",
    "myNetwork.train(epochs=10, learnRate=0.1, K=300, useKMeans=False, save_weight=\"weights1\")\n",
    "print(f\"Training took: {time.time()-startTrainingTime:.2f} sec\")"
   ]
  },
  {
   "cell_type": "code",
   "execution_count": 11,
   "metadata": {},
   "outputs": [
    {
     "name": "stdout",
     "output_type": "stream",
     "text": [
      "Importing data for testing...\n",
      "Prediciting...\n",
      "Total Avg. Accuracy: 61.36 %\n"
     ]
    },
    {
     "data": {
      "image/png": "[encoded data removed]",
      "text/plain": [
       "<Figure size 432x288 with 1 Axes>"
      ]
     },
     "metadata": {
      "needs_background": "light"
     },
     "output_type": "display_data"
    }
   ],
   "source": [
    "myNetwork.W = np.load(\"weights1.npy\")\n",
    "myNetwork.C = np.load(\"centers.npy\")\n",
    "\n",
    "print(\"Importing data for testing...\")\n",
    "myNetwork.loadData(X_test, y_test, testDataSize)\n",
    "myNetwork.predict()\n",
    "# Plotting the errors of the first 10000 examples\n",
    "plotLearningCurves(myNetwork.trainErrors[:10000], myNetwork.testErrors[:10000])"
   ]
  },
  {
   "cell_type": "code",
   "execution_count": 12,
   "metadata": {},
   "outputs": [
    {
     "name": "stderr",
     "output_type": "stream",
     "text": [
      "\r",
      "  0%|          | 0/10 [00:00<?, ?it/s]"
     ]
    },
    {
     "name": "stdout",
     "output_type": "stream",
     "text": [
      "60000 training examples imported in 0.00 sec\n",
      "Initialzing Centers...\n",
      "Training...\n"
     ]
    },
    {
     "name": "stderr",
     "output_type": "stream",
     "text": [
      "100%|██████████| 10/10 [06:03<00:00, 36.40s/it]"
     ]
    },
    {
     "name": "stdout",
     "output_type": "stream",
     "text": [
      "Training done\n",
      "Training took: 363.97 sec\n"
     ]
    },
    {
     "name": "stderr",
     "output_type": "stream",
     "text": [
      "\n"
     ]
    }
   ],
   "source": [
    "start = time.time()\n",
    "trainDataSize = 60000\n",
    "testDataSize = 10000\n",
    "    \n",
    "myNetwork = Network()\n",
    "\n",
    "startTime = time.time()\n",
    "myNetwork.loadData(X_train, y_train, trainDataSize)\n",
    "print(\n",
    "    f\"{trainDataSize} training examples imported in {time.time()-startTime:.2f} sec\"\n",
    ")\n",
    "\n",
    "startTrainingTime = time.time()\n",
    "myNetwork.train(epochs=10, learnRate=0.1, K=100, useKMeans=False, save_weight=\"weights2\")\n",
    "print(f\"Training took: {time.time()-startTrainingTime:.2f} sec\")"
   ]
  },
  {
   "cell_type": "code",
   "execution_count": 13,
   "metadata": {},
   "outputs": [
    {
     "name": "stdout",
     "output_type": "stream",
     "text": [
      "Importing data for testing...\n",
      "Prediciting...\n",
      "Total Avg. Accuracy: 52.89 %\n"
     ]
    },
    {
     "data": {
      "image/png": "[encoded data removed]",
      "text/plain": [
       "<Figure size 432x288 with 1 Axes>"
      ]
     },
     "metadata": {
      "needs_background": "light"
     },
     "output_type": "display_data"
    }
   ],
   "source": [
    "myNetwork.W = np.load(\"weights2.npy\")\n",
    "myNetwork.C = np.load(\"centers.npy\")\n",
    "\n",
    "print(\"Importing data for testing...\")\n",
    "myNetwork.loadData(X_test, y_test, testDataSize)\n",
    "myNetwork.predict()\n",
    "# Plotting the errors of the first 10000 examples\n",
    "plotLearningCurves(myNetwork.trainErrors[:10000], myNetwork.testErrors[:10000])"
   ]
  },
  {
   "cell_type": "code",
   "execution_count": 14,
   "metadata": {},
   "outputs": [
    {
     "name": "stderr",
     "output_type": "stream",
     "text": [
      "\r",
      "  0%|          | 0/10 [00:00<?, ?it/s]"
     ]
    },
    {
     "name": "stdout",
     "output_type": "stream",
     "text": [
      "60000 training examples imported in 0.00 sec\n",
      "Initialzing Centers...\n",
      "Training...\n"
     ]
    },
    {
     "name": "stderr",
     "output_type": "stream",
     "text": [
      "100%|██████████| 10/10 [59:17<00:00, 355.76s/it]"
     ]
    },
    {
     "name": "stdout",
     "output_type": "stream",
     "text": [
      "Training done\n",
      "Training took: 3557.61 sec\n"
     ]
    },
    {
     "name": "stderr",
     "output_type": "stream",
     "text": [
      "\n"
     ]
    }
   ],
   "source": [
    "start = time.time()\n",
    "trainDataSize = 60000\n",
    "testDataSize = 10000\n",
    "    \n",
    "myNetwork = Network()\n",
    "\n",
    "startTime = time.time()\n",
    "myNetwork.loadData(X_train, y_train, trainDataSize)\n",
    "print(\n",
    "    f\"{trainDataSize} training examples imported in {time.time()-startTime:.2f} sec\"\n",
    ")\n",
    "\n",
    "startTrainingTime = time.time()\n",
    "myNetwork.train(epochs=10, learnRate=0.1, K=1000, useKMeans=False, save_weight=\"weights3\")\n",
    "print(f\"Training took: {time.time()-startTrainingTime:.2f} sec\")"
   ]
  },
  {
   "cell_type": "code",
   "execution_count": 15,
   "metadata": {},
   "outputs": [
    {
     "name": "stdout",
     "output_type": "stream",
     "text": [
      "Importing data for testing...\n",
      "Prediciting...\n",
      "Total Avg. Accuracy: 70.39 %\n"
     ]
    },
    {
     "data": {
      "image/png": "[encoded data removed]",
      "text/plain": [
       "<Figure size 432x288 with 1 Axes>"
      ]
     },
     "metadata": {
      "needs_background": "light"
     },
     "output_type": "display_data"
    }
   ],
   "source": [
    "myNetwork.W = np.load(\"weights3.npy\")\n",
    "myNetwork.C = np.load(\"centers.npy\")\n",
    "\n",
    "print(\"Importing data for testing...\")\n",
    "myNetwork.loadData(X_test, y_test, testDataSize)\n",
    "myNetwork.predict()\n",
    "# Plotting the errors of the first 10000 examples\n",
    "plotLearningCurves(myNetwork.trainErrors[:10000], myNetwork.testErrors[:10000])"
   ]
  },
  {
   "cell_type": "code",
   "execution_count": 16,
   "metadata": {},
   "outputs": [
    {
     "name": "stderr",
     "output_type": "stream",
     "text": [
      "\r",
      "  0%|          | 0/20 [00:00<?, ?it/s]"
     ]
    },
    {
     "name": "stdout",
     "output_type": "stream",
     "text": [
      "60000 training examples imported in 0.00 sec\n",
      "Initialzing Centers...\n",
      "Training...\n"
     ]
    },
    {
     "name": "stderr",
     "output_type": "stream",
     "text": [
      "100%|██████████| 20/20 [12:08<00:00, 36.41s/it]"
     ]
    },
    {
     "name": "stdout",
     "output_type": "stream",
     "text": [
      "Training done\n",
      "Training took: 728.15 sec\n"
     ]
    },
    {
     "name": "stderr",
     "output_type": "stream",
     "text": [
      "\n"
     ]
    }
   ],
   "source": [
    "start = time.time()\n",
    "trainDataSize = 60000\n",
    "testDataSize = 10000\n",
    "    \n",
    "myNetwork = Network()\n",
    "\n",
    "startTime = time.time()\n",
    "myNetwork.loadData(X_train, y_train, trainDataSize)\n",
    "print(\n",
    "    f\"{trainDataSize} training examples imported in {time.time()-startTime:.2f} sec\"\n",
    ")\n",
    "\n",
    "startTrainingTime = time.time()\n",
    "myNetwork.train(epochs=20, learnRate=0.1, K=100, useKMeans=False, save_weight=\"weights4\")\n",
    "print(f\"Training took: {time.time()-startTrainingTime:.2f} sec\")"
   ]
  },
  {
   "cell_type": "code",
   "execution_count": 17,
   "metadata": {},
   "outputs": [
    {
     "name": "stdout",
     "output_type": "stream",
     "text": [
      "Importing data for testing...\n",
      "Prediciting...\n",
      "Total Avg. Accuracy: 53.96 %\n"
     ]
    },
    {
     "data": {
      "image/png": "[encoded data removed]",
      "text/plain": [
       "<Figure size 432x288 with 1 Axes>"
      ]
     },
     "metadata": {
      "needs_background": "light"
     },
     "output_type": "display_data"
    }
   ],
   "source": [
    "myNetwork.W = np.load(\"weights4.npy\")\n",
    "myNetwork.C = np.load(\"centers.npy\")\n",
    "\n",
    "print(\"Importing data for testing...\")\n",
    "myNetwork.loadData(X_test, y_test, testDataSize)\n",
    "myNetwork.predict()\n",
    "# Plotting the errors of the first 10000 examples\n",
    "plotLearningCurves(myNetwork.trainErrors[:10000], myNetwork.testErrors[:10000])"
   ]
  },
  {
   "cell_type": "code",
   "execution_count": 18,
   "metadata": {},
   "outputs": [
    {
     "name": "stderr",
     "output_type": "stream",
     "text": [
      "\r",
      "  0%|          | 0/20 [00:00<?, ?it/s]"
     ]
    },
    {
     "name": "stdout",
     "output_type": "stream",
     "text": [
      "60000 training examples imported in 0.00 sec\n",
      "Initialzing Centers...\n",
      "Training...\n"
     ]
    },
    {
     "name": "stderr",
     "output_type": "stream",
     "text": [
      "100%|██████████| 20/20 [1:58:18<00:00, 354.92s/it]"
     ]
    },
    {
     "name": "stdout",
     "output_type": "stream",
     "text": [
      "Training done\n",
      "Training took: 7098.42 sec\n"
     ]
    },
    {
     "name": "stderr",
     "output_type": "stream",
     "text": [
      "\n"
     ]
    }
   ],
   "source": [
    "start = time.time()\n",
    "trainDataSize = 60000\n",
    "testDataSize = 10000\n",
    "    \n",
    "myNetwork = Network()\n",
    "\n",
    "startTime = time.time()\n",
    "myNetwork.loadData(X_train, y_train, trainDataSize)\n",
    "print(\n",
    "    f\"{trainDataSize} training examples imported in {time.time()-startTime:.2f} sec\"\n",
    ")\n",
    "\n",
    "startTrainingTime = time.time()\n",
    "myNetwork.train(epochs=20, learnRate=0.1, K=1000, useKMeans=False, save_weight=\"weights5\")\n",
    "print(f\"Training took: {time.time()-startTrainingTime:.2f} sec\")"
   ]
  },
  {
   "cell_type": "code",
   "execution_count": 19,
   "metadata": {},
   "outputs": [
    {
     "name": "stdout",
     "output_type": "stream",
     "text": [
      "Importing data for testing...\n",
      "Prediciting...\n",
      "Total Avg. Accuracy: 71.87 %\n"
     ]
    },
    {
     "data": {
      "image/png": "[encoded data removed]",
      "text/plain": [
       "<Figure size 432x288 with 1 Axes>"
      ]
     },
     "metadata": {
      "needs_background": "light"
     },
     "output_type": "display_data"
    }
   ],
   "source": [
    "myNetwork.W = np.load(\"weights5.npy\")\n",
    "myNetwork.C = np.load(\"centers.npy\")\n",
    "\n",
    "print(\"Importing data for testing...\")\n",
    "myNetwork.loadData(X_test, y_test, testDataSize)\n",
    "myNetwork.predict()\n",
    "# Plotting the errors of the first 10000 examples\n",
    "plotLearningCurves(myNetwork.trainErrors[:10000], myNetwork.testErrors[:10000])"
   ]
  },
  {
   "cell_type": "code",
   "execution_count": 22,
   "metadata": {},
   "outputs": [
    {
     "name": "stdout",
     "output_type": "stream",
     "text": [
      "60000 training examples imported in 0.00 sec\n",
      "Initialzing Centers...\n"
     ]
    },
    {
     "name": "stderr",
     "output_type": "stream",
     "text": [
      "/Users/gijunglee/opt/anaconda3/envs/ml/lib/python3.7/site-packages/ipykernel_launcher.py:62: RuntimeWarning: invalid value encountered in true_divide\n",
      "  0%|          | 0/1 [00:00<?, ?it/s]"
     ]
    },
    {
     "name": "stdout",
     "output_type": "stream",
     "text": [
      "Training...\n"
     ]
    },
    {
     "name": "stderr",
     "output_type": "stream",
     "text": [
      "100%|██████████| 1/1 [05:50<00:00, 350.65s/it]"
     ]
    },
    {
     "name": "stdout",
     "output_type": "stream",
     "text": [
      "Training done\n",
      "Training took: 511.29 sec\n"
     ]
    },
    {
     "name": "stderr",
     "output_type": "stream",
     "text": [
      "\n"
     ]
    }
   ],
   "source": [
    "start = time.time()\n",
    "trainDataSize = 60000\n",
    "testDataSize = 10000\n",
    "    \n",
    "myNetwork = Network()\n",
    "\n",
    "startTime = time.time()\n",
    "myNetwork.loadData(X_train, y_train, trainDataSize)\n",
    "print(\n",
    "    f\"{trainDataSize} training examples imported in {time.time()-startTime:.2f} sec\"\n",
    ")\n",
    "\n",
    "startTrainingTime = time.time()\n",
    "myNetwork.train(epochs=1, learnRate=0.1, K=1000, useKMeans=True, save_weight=\"weights6\")\n",
    "print(f\"Training took: {time.time()-startTrainingTime:.2f} sec\")"
   ]
  },
  {
   "cell_type": "code",
   "execution_count": 23,
   "metadata": {},
   "outputs": [
    {
     "name": "stdout",
     "output_type": "stream",
     "text": [
      "Importing data for testing...\n",
      "Prediciting...\n",
      "Total Avg. Accuracy: 10.0 %\n"
     ]
    },
    {
     "data": {
      "image/png": "[encoded data removed]",
      "text/plain": [
       "<Figure size 432x288 with 1 Axes>"
      ]
     },
     "metadata": {
      "needs_background": "light"
     },
     "output_type": "display_data"
    }
   ],
   "source": [
    "myNetwork.W = np.load(\"weights6.npy\")\n",
    "myNetwork.C = np.load(\"centers.npy\")\n",
    "\n",
    "print(\"Importing data for testing...\")\n",
    "myNetwork.loadData(X_test, y_test, testDataSize)\n",
    "myNetwork.predict()\n",
    "# Plotting the errors of the first 10000 examples\n",
    "plotLearningCurves(myNetwork.trainErrors[:10000], myNetwork.testErrors[:10000])"
   ]
  },
  {
   "cell_type": "code",
   "execution_count": 25,
   "metadata": {},
   "outputs": [
    {
     "name": "stderr",
     "output_type": "stream",
     "text": [
      "\r",
      "  0%|          | 0/1 [00:00<?, ?it/s]"
     ]
    },
    {
     "name": "stdout",
     "output_type": "stream",
     "text": [
      "60000 training examples imported in 0.00 sec\n",
      "Initialzing Centers...\n",
      "Training...\n"
     ]
    },
    {
     "name": "stderr",
     "output_type": "stream",
     "text": [
      "100%|██████████| 1/1 [12:29<00:00, 749.43s/it]"
     ]
    },
    {
     "name": "stdout",
     "output_type": "stream",
     "text": [
      "Training done\n",
      "Training took: 749.46 sec\n"
     ]
    },
    {
     "name": "stderr",
     "output_type": "stream",
     "text": [
      "\n"
     ]
    }
   ],
   "source": [
    "start = time.time()\n",
    "trainDataSize = 60000\n",
    "testDataSize = 10000\n",
    "    \n",
    "myNetwork = Network()\n",
    "\n",
    "startTime = time.time()\n",
    "myNetwork.loadData(X_train, y_train, trainDataSize)\n",
    "print(\n",
    "    f\"{trainDataSize} training examples imported in {time.time()-startTime:.2f} sec\"\n",
    ")\n",
    "\n",
    "startTrainingTime = time.time()\n",
    "myNetwork.train(epochs=1, learnRate=0.3, K=2000, useKMeans=False, save_weight=\"weights7\")\n",
    "print(f\"Training took: {time.time()-startTrainingTime:.2f} sec\")"
   ]
  },
  {
   "cell_type": "code",
   "execution_count": 26,
   "metadata": {},
   "outputs": [
    {
     "name": "stdout",
     "output_type": "stream",
     "text": [
      "Importing data for testing...\n",
      "Prediciting...\n",
      "Total Avg. Accuracy: 70.79 %\n"
     ]
    },
    {
     "data": {
      "image/png": "[encoded data removed]",
      "text/plain": [
       "<Figure size 432x288 with 1 Axes>"
      ]
     },
     "metadata": {
      "needs_background": "light"
     },
     "output_type": "display_data"
    }
   ],
   "source": [
    "myNetwork.W = np.load(\"weights7.npy\")\n",
    "myNetwork.C = np.load(\"centers.npy\")\n",
    "\n",
    "print(\"Importing data for testing...\")\n",
    "myNetwork.loadData(X_test, y_test, testDataSize)\n",
    "myNetwork.predict()\n",
    "# Plotting the errors of the first 10000 examples\n",
    "plotLearningCurves(myNetwork.trainErrors[:10000], myNetwork.testErrors[:10000])"
   ]
  },
  {
   "cell_type": "code",
   "execution_count": 27,
   "metadata": {},
   "outputs": [
    {
     "name": "stderr",
     "output_type": "stream",
     "text": [
      "\r",
      "  0%|          | 0/1 [00:00<?, ?it/s]"
     ]
    },
    {
     "name": "stdout",
     "output_type": "stream",
     "text": [
      "60000 training examples imported in 0.00 sec\n",
      "Initialzing Centers...\n",
      "Training...\n"
     ]
    },
    {
     "name": "stderr",
     "output_type": "stream",
     "text": [
      "100%|██████████| 1/1 [19:09<00:00, 1149.04s/it]"
     ]
    },
    {
     "name": "stdout",
     "output_type": "stream",
     "text": [
      "Training done\n",
      "Training took: 1149.11 sec\n"
     ]
    },
    {
     "name": "stderr",
     "output_type": "stream",
     "text": [
      "\n"
     ]
    }
   ],
   "source": [
    "start = time.time()\n",
    "trainDataSize = 60000\n",
    "testDataSize = 10000\n",
    "    \n",
    "myNetwork = Network()\n",
    "\n",
    "startTime = time.time()\n",
    "myNetwork.loadData(X_train, y_train, trainDataSize)\n",
    "print(\n",
    "    f\"{trainDataSize} training examples imported in {time.time()-startTime:.2f} sec\"\n",
    ")\n",
    "\n",
    "startTrainingTime = time.time()\n",
    "myNetwork.train(epochs=1, learnRate=0.3, K=3000, useKMeans=False, save_weight=\"weights8\")\n",
    "print(f\"Training took: {time.time()-startTrainingTime:.2f} sec\")"
   ]
  },
  {
   "cell_type": "code",
   "execution_count": 28,
   "metadata": {},
   "outputs": [
    {
     "name": "stdout",
     "output_type": "stream",
     "text": [
      "Importing data for testing...\n",
      "Prediciting...\n",
      "Total Avg. Accuracy: 72.84 %\n"
     ]
    },
    {
     "data": {
      "image/png": "[encoded data removed]",
      "text/plain": [
       "<Figure size 432x288 with 1 Axes>"
      ]
     },
     "metadata": {
      "needs_background": "light"
     },
     "output_type": "display_data"
    }
   ],
   "source": [
    "myNetwork.W = np.load(\"weights8.npy\")\n",
    "myNetwork.C = np.load(\"centers.npy\")\n",
    "\n",
    "print(\"Importing data for testing...\")\n",
    "myNetwork.loadData(X_test, y_test, testDataSize)\n",
    "myNetwork.predict()\n",
    "# Plotting the errors of the first 10000 examples\n",
    "plotLearningCurves(myNetwork.trainErrors[:10000], myNetwork.testErrors[:10000])"
   ]
  },
  {
   "cell_type": "code",
   "execution_count": 32,
   "metadata": {},
   "outputs": [
    {
     "name": "stdout",
     "output_type": "stream",
     "text": [
      "Importing data for testing...\n",
      "Prediciting...\n",
      "Total Avg. Accuracy: 72.84 %\n"
     ]
    },
    {
     "data": {
      "image/png": "[encoded data removed]",
      "text/plain": [
       "<Figure size 432x288 with 1 Axes>"
      ]
     },
     "metadata": {
      "needs_background": "light"
     },
     "output_type": "display_data"
    }
   ],
   "source": [
    "myNetwork.W = np.load(\"weights8.npy\")\n",
    "myNetwork.C = np.load(\"centers.npy\")\n",
    "\n",
    "print(\"Importing data for testing...\")\n",
    "myNetwork.loadData(X_test, y_test, testDataSize)\n",
    "myNetwork.predict()\n",
    "# Plotting the errors of the first 10000 examples\n",
    "plotLearningCurves(myNetwork.trainErrors[:10000], myNetwork.testErrors[:10000])"
   ]
  },
  {
   "cell_type": "code",
   "execution_count": null,
   "metadata": {},
   "outputs": [],
   "source": []
  }
 ],
 "metadata": {
  "kernelspec": {
   "display_name": "Python 3 (ipykernel)",
   "language": "python",
   "name": "python3"
  },
  "language_info": {
   "codemirror_mode": {
    "name": "ipython",
    "version": 3
   },
   "file_extension": ".py",
   "mimetype": "text/x-python",
   "name": "python",
   "nbconvert_exporter": "python",
   "pygments_lexer": "ipython3",
   "version": "3.9.7"
  }
 },
 "nbformat": 4,
 "nbformat_minor": 4
}
