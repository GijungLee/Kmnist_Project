{
 "cells": [
  {
   "cell_type": "code",
   "execution_count": 1,
   "metadata": {},
   "outputs": [],
   "source": [
    "import tensorflow as tf\n",
    "from tensorflow import keras\n",
    "import numpy as np\n",
    "import matplotlib.pyplot as plt\n",
    "%matplotlib inline\n",
    "from tensorflow.keras import backend as K\n",
    "from tensorflow.keras.models import Sequential\n",
    "from tensorflow.keras.layers import Dense, Activation, Flatten, Dropout, Layer, BatchNormalization\n",
    "from tensorflow.keras.optimizers import RMSprop, SGD, Adam\n",
    "from tensorflow.keras.utils import to_categorical\n",
    "from tensorflow.keras.callbacks import ModelCheckpoint\n",
    "from sklearn.preprocessing import StandardScaler\n",
    "from sklearn.preprocessing import Normalizer\n",
    "from sklearn.model_selection import train_test_split\n",
    "from tensorflow.keras.models import load_model\n",
    "from scipy.optimize import minimize"
   ]
  },
  {
   "cell_type": "code",
   "execution_count": 2,
   "metadata": {},
   "outputs": [],
   "source": [
    "random_train_imgs = np.load(\"data/kmnist-randomized-train-imgs.npz\")[\"arr_0\"]\n",
    "random_train_labels = np.load(\"data/kmnist-randomized-train-labels.npz\")[\"arr_0\"]\n",
    "random_test_imgs = np.load(\"data/kmnist-randomized-test-imgs.npz\")[\"arr_0\"]\n",
    "random_test_labels = np.load(\"data/kmnist-randomized-test-labels.npz\")[\"arr_0\"]"
   ]
  },
  {
   "cell_type": "code",
   "execution_count": 3,
   "metadata": {},
   "outputs": [],
   "source": [
    "X_train, X_valid, y_train, y_valid = train_test_split(random_train_imgs, random_train_labels, test_size=0.1, shuffle=False)"
   ]
  },
  {
   "cell_type": "code",
   "execution_count": 4,
   "metadata": {},
   "outputs": [],
   "source": [
    "X_train = X_train.astype(\"float32\") / 255\n",
    "X_valid = X_valid.astype(\"float32\") / 255"
   ]
  },
  {
   "cell_type": "code",
   "execution_count": 5,
   "metadata": {},
   "outputs": [
    {
     "data": {
      "text/plain": [
       "<matplotlib.image.AxesImage at 0x7fcc0255c410>"
      ]
     },
     "execution_count": 5,
     "metadata": {},
     "output_type": "execute_result"
    },
    {
     "data": {
      "image/png": "[encoded data removed]",
      "text/plain": [
       "<Figure size 432x288 with 1 Axes>"
      ]
     },
     "metadata": {
      "needs_background": "light"
     },
     "output_type": "display_data"
    }
   ],
   "source": [
    "plt.imshow(X_train[10], cmap=\"gray\")"
   ]
  },
  {
   "cell_type": "code",
   "execution_count": 6,
   "metadata": {},
   "outputs": [
    {
     "data": {
      "text/plain": [
       "10"
      ]
     },
     "execution_count": 6,
     "metadata": {},
     "output_type": "execute_result"
    }
   ],
   "source": [
    "categories = len(np.unique(y_train))\n",
    "categories"
   ]
  },
  {
   "cell_type": "code",
   "execution_count": 7,
   "metadata": {},
   "outputs": [],
   "source": [
    "y_train = to_categorical(y_train, categories)\n",
    "y_valid = to_categorical(y_valid, categories)"
   ]
  },
  {
   "cell_type": "code",
   "execution_count": 8,
   "metadata": {},
   "outputs": [],
   "source": [
    "X_test = random_test_imgs\n",
    "y_test = random_test_labels"
   ]
  },
  {
   "cell_type": "code",
   "execution_count": 9,
   "metadata": {},
   "outputs": [],
   "source": [
    "X_test = X_test.astype(\"float32\") / 255"
   ]
  },
  {
   "cell_type": "code",
   "execution_count": 10,
   "metadata": {},
   "outputs": [
    {
     "data": {
      "text/plain": [
       "<matplotlib.image.AxesImage at 0x7fcbf158fb90>"
      ]
     },
     "execution_count": 10,
     "metadata": {},
     "output_type": "execute_result"
    },
    {
     "data": {
      "image/png": "[encoded data removed]",
      "text/plain": [
       "<Figure size 432x288 with 1 Axes>"
      ]
     },
     "metadata": {
      "needs_background": "light"
     },
     "output_type": "display_data"
    }
   ],
   "source": [
    "plt.imshow(X_test[10], cmap=\"gray\")"
   ]
  },
  {
   "cell_type": "code",
   "execution_count": 11,
   "metadata": {},
   "outputs": [
    {
     "data": {
      "text/plain": [
       "10"
      ]
     },
     "execution_count": 11,
     "metadata": {},
     "output_type": "execute_result"
    }
   ],
   "source": [
    "categories = len(np.unique(y_test))\n",
    "categories"
   ]
  },
  {
   "cell_type": "code",
   "execution_count": 12,
   "metadata": {},
   "outputs": [
    {
     "data": {
      "text/plain": [
       "array([0., 0., 1., 0., 0., 0., 0., 0., 0., 0.], dtype=float32)"
      ]
     },
     "execution_count": 12,
     "metadata": {},
     "output_type": "execute_result"
    }
   ],
   "source": [
    "y_test = to_categorical(y_test, categories)\n",
    "y_test[10]"
   ]
  },
  {
   "cell_type": "code",
   "execution_count": 13,
   "metadata": {},
   "outputs": [
    {
     "name": "stdout",
     "output_type": "stream",
     "text": [
      "Cloning into 'tf-levenberg-marquardt'...\n",
      "remote: Enumerating objects: 29, done.\u001b[K\n",
      "remote: Counting objects: 100% (29/29), done.\u001b[K\n",
      "remote: Compressing objects: 100% (19/19), done.\u001b[K\n",
      "remote: Total 29 (delta 15), reused 19 (delta 9), pack-reused 0\u001b[K\n",
      "Unpacking objects: 100% (29/29), done.\n"
     ]
    }
   ],
   "source": [
    "!git clone \"https://github.com/fabiodimarco/tf-levenberg-marquardt.git\""
   ]
  },
  {
   "cell_type": "code",
   "execution_count": 14,
   "metadata": {},
   "outputs": [],
   "source": [
    "from tf_levenberg_marquardt import levenberg_marquardt as lm"
   ]
  },
  {
   "cell_type": "code",
   "execution_count": 15,
   "metadata": {},
   "outputs": [],
   "source": [
    "op_histories = []"
   ]
  },
  {
   "cell_type": "code",
   "execution_count": 17,
   "metadata": {},
   "outputs": [
    {
     "name": "stdout",
     "output_type": "stream",
     "text": [
      "Train on 54000 samples, validate on 6000 samples\n",
      "Epoch 1/10\n",
      "53952/54000 [============================>.] - ETA: 0s - loss: 0.3813 - accuracy: 0.8838\n",
      "Epoch 00001: val_accuracy improved from -inf to 0.93600, saving model to sgd_op.h5\n",
      "54000/54000 [==============================] - 17s 315us/sample - loss: 0.3812 - accuracy: 0.8839 - val_loss: 0.2227 - val_accuracy: 0.9360\n",
      "Epoch 2/10\n",
      "53920/54000 [============================>.] - ETA: 0s - loss: 0.1519 - accuracy: 0.9541\n",
      "Epoch 00002: val_accuracy improved from 0.93600 to 0.94133, saving model to sgd_op.h5\n",
      "54000/54000 [==============================] - 15s 286us/sample - loss: 0.1519 - accuracy: 0.9541 - val_loss: 0.1987 - val_accuracy: 0.9413\n",
      "Epoch 3/10\n",
      "53888/54000 [============================>.] - ETA: 0s - loss: 0.0879 - accuracy: 0.9743\n",
      "Epoch 00003: val_accuracy improved from 0.94133 to 0.95133, saving model to sgd_op.h5\n",
      "54000/54000 [==============================] - 16s 302us/sample - loss: 0.0879 - accuracy: 0.9743 - val_loss: 0.1625 - val_accuracy: 0.9513\n",
      "Epoch 4/10\n",
      "53952/54000 [============================>.] - ETA: 0s - loss: 0.0519 - accuracy: 0.9861\n",
      "Epoch 00004: val_accuracy improved from 0.95133 to 0.95817, saving model to sgd_op.h5\n",
      "54000/54000 [==============================] - 15s 278us/sample - loss: 0.0519 - accuracy: 0.9861 - val_loss: 0.1540 - val_accuracy: 0.9582\n",
      "Epoch 5/10\n",
      "53856/54000 [============================>.] - ETA: 0s - loss: 0.0285 - accuracy: 0.9928\n",
      "Epoch 00005: val_accuracy improved from 0.95817 to 0.96150, saving model to sgd_op.h5\n",
      "54000/54000 [==============================] - 17s 311us/sample - loss: 0.0285 - accuracy: 0.9928 - val_loss: 0.1424 - val_accuracy: 0.9615\n",
      "Epoch 6/10\n",
      "53952/54000 [============================>.] - ETA: 0s - loss: 0.0137 - accuracy: 0.9975\n",
      "Epoch 00006: val_accuracy improved from 0.96150 to 0.96483, saving model to sgd_op.h5\n",
      "54000/54000 [==============================] - 15s 280us/sample - loss: 0.0137 - accuracy: 0.9975 - val_loss: 0.1376 - val_accuracy: 0.9648\n",
      "Epoch 7/10\n",
      "53856/54000 [============================>.] - ETA: 0s - loss: 0.0071 - accuracy: 0.9989\n",
      "Epoch 00007: val_accuracy did not improve from 0.96483\n",
      "54000/54000 [==============================] - 15s 274us/sample - loss: 0.0071 - accuracy: 0.9989 - val_loss: 0.1432 - val_accuracy: 0.9623\n",
      "Epoch 8/10\n",
      "53888/54000 [============================>.] - ETA: 0s - loss: 0.0038 - accuracy: 0.9997\n",
      "Epoch 00008: val_accuracy did not improve from 0.96483\n",
      "54000/54000 [==============================] - 15s 273us/sample - loss: 0.0037 - accuracy: 0.9997 - val_loss: 0.1456 - val_accuracy: 0.9628\n",
      "Epoch 9/10\n",
      "53824/54000 [============================>.] - ETA: 0s - loss: 0.0020 - accuracy: 0.9999\n",
      "Epoch 00009: val_accuracy did not improve from 0.96483\n",
      "54000/54000 [==============================] - 15s 286us/sample - loss: 0.0020 - accuracy: 0.9999 - val_loss: 0.1507 - val_accuracy: 0.9645\n",
      "Epoch 10/10\n",
      "53888/54000 [============================>.] - ETA: 0s - loss: 0.0014 - accuracy: 1.0000\n",
      "Epoch 00010: val_accuracy did not improve from 0.96483\n",
      "54000/54000 [==============================] - 15s 276us/sample - loss: 0.0014 - accuracy: 1.0000 - val_loss: 0.1484 - val_accuracy: 0.9648\n",
      "Train on 54000 samples, validate on 6000 samples\n",
      "Epoch 1/10\n",
      "Epoch 1/10\n",
      "53984/54000 [============================>.] - ETA: 0s - loss: 1.7317 - accuracy: 0.7540\n",
      "Epoch 00001: val_accuracy improved from -inf to 0.80217, saving model to lm_op.h5\n",
      "1688/1688 [==============================] - 169s 100ms/step - loss: 1.7317 - accuracy: 0.7540 - val_loss: 1.6677 - val_accuracy: 0.8022\n",
      "54000/54000 [==============================] - 169s 3ms/sample - loss: 1.7317 - accuracy: 0.7540 - val_loss: 1.6677 - val_accuracy: 0.8022\n",
      "Epoch 2/10\n",
      "Epoch 2/10\n",
      "53984/54000 [============================>.] - ETA: 0s - loss: 1.6330 - accuracy: 0.8353\n",
      "Epoch 00002: val_accuracy improved from 0.80217 to 0.84017, saving model to lm_op.h5\n",
      "1688/1688 [==============================] - 169s 100ms/step - loss: 1.6329 - accuracy: 0.8354 - val_loss: 1.6272 - val_accuracy: 0.8402\n",
      "54000/54000 [==============================] - 169s 3ms/sample - loss: 1.6329 - accuracy: 0.8354 - val_loss: 1.6272 - val_accuracy: 0.8402\n",
      "Epoch 3/10\n",
      "Epoch 3/10\n",
      "53984/54000 [============================>.] - ETA: 0s - loss: 1.6093 - accuracy: 0.8576\n",
      "Epoch 00003: val_accuracy improved from 0.84017 to 0.85067, saving model to lm_op.h5\n",
      "1688/1688 [==============================] - 149s 88ms/step - loss: 1.6093 - accuracy: 0.8576 - val_loss: 1.6162 - val_accuracy: 0.8507\n",
      "54000/54000 [==============================] - 149s 3ms/sample - loss: 1.6093 - accuracy: 0.8576 - val_loss: 1.6162 - val_accuracy: 0.8507\n",
      "Epoch 4/10\n",
      "Epoch 4/10\n",
      "53984/54000 [============================>.] - ETA: 0s - loss: 1.5847 - accuracy: 0.8825\n",
      "Epoch 00004: val_accuracy improved from 0.85067 to 0.86933, saving model to lm_op.h5\n",
      "1688/1688 [==============================] - 150s 89ms/step - loss: 1.5847 - accuracy: 0.8826 - val_loss: 1.5962 - val_accuracy: 0.8693\n",
      "54000/54000 [==============================] - 150s 3ms/sample - loss: 1.5847 - accuracy: 0.8826 - val_loss: 1.5962 - val_accuracy: 0.8693\n",
      "Epoch 5/10\n",
      "Epoch 5/10\n",
      "53984/54000 [============================>.] - ETA: 0s - loss: 1.5641 - accuracy: 0.9033\n",
      "Epoch 00005: val_accuracy improved from 0.86933 to 0.89017, saving model to lm_op.h5\n",
      "1688/1688 [==============================] - 148s 88ms/step - loss: 1.5641 - accuracy: 0.9033 - val_loss: 1.5769 - val_accuracy: 0.8902\n",
      "54000/54000 [==============================] - 148s 3ms/sample - loss: 1.5641 - accuracy: 0.9033 - val_loss: 1.5769 - val_accuracy: 0.8902\n",
      "Epoch 6/10\n",
      "Epoch 6/10\n",
      "53984/54000 [============================>.] - ETA: 0s - loss: 1.5520 - accuracy: 0.9145\n",
      "Epoch 00006: val_accuracy improved from 0.89017 to 0.89250, saving model to lm_op.h5\n",
      "1688/1688 [==============================] - 151s 89ms/step - loss: 1.5520 - accuracy: 0.9145 - val_loss: 1.5746 - val_accuracy: 0.8925\n",
      "54000/54000 [==============================] - 151s 3ms/sample - loss: 1.5520 - accuracy: 0.9145 - val_loss: 1.5746 - val_accuracy: 0.8925\n",
      "Epoch 7/10\n",
      "Epoch 7/10\n",
      "53984/54000 [============================>.] - ETA: 0s - loss: 1.5432 - accuracy: 0.9228\n",
      "Epoch 00007: val_accuracy improved from 0.89250 to 0.90200, saving model to lm_op.h5\n",
      "1688/1688 [==============================] - 151s 90ms/step - loss: 1.5431 - accuracy: 0.9228 - val_loss: 1.5623 - val_accuracy: 0.9020\n",
      "54000/54000 [==============================] - 151s 3ms/sample - loss: 1.5431 - accuracy: 0.9228 - val_loss: 1.5623 - val_accuracy: 0.9020\n",
      "Epoch 8/10\n",
      "Epoch 8/10\n",
      "53984/54000 [============================>.] - ETA: 0s - loss: 1.5361 - accuracy: 0.9293\n",
      "Epoch 00008: val_accuracy improved from 0.90200 to 0.90783, saving model to lm_op.h5\n",
      "1688/1688 [==============================] - 144s 85ms/step - loss: 1.5360 - accuracy: 0.9294 - val_loss: 1.5576 - val_accuracy: 0.9078\n",
      "54000/54000 [==============================] - 144s 3ms/sample - loss: 1.5360 - accuracy: 0.9294 - val_loss: 1.5576 - val_accuracy: 0.9078\n",
      "Epoch 9/10\n",
      "Epoch 9/10\n",
      "53984/54000 [============================>.] - ETA: 0s - loss: 1.5263 - accuracy: 0.9392\n",
      "Epoch 00009: val_accuracy improved from 0.90783 to 0.91500, saving model to lm_op.h5\n",
      "1688/1688 [==============================] - 146s 87ms/step - loss: 1.5263 - accuracy: 0.9392 - val_loss: 1.5494 - val_accuracy: 0.9150\n",
      "54000/54000 [==============================] - 146s 3ms/sample - loss: 1.5263 - accuracy: 0.9392 - val_loss: 1.5494 - val_accuracy: 0.9150\n",
      "Epoch 10/10\n",
      "Epoch 10/10\n",
      "53984/54000 [============================>.] - ETA: 0s - loss: 1.5207 - accuracy: 0.9442\n",
      "Epoch 00010: val_accuracy improved from 0.91500 to 0.92017, saving model to lm_op.h5\n",
      "1688/1688 [==============================] - 165s 98ms/step - loss: 1.5207 - accuracy: 0.9442 - val_loss: 1.5462 - val_accuracy: 0.9202\n",
      "54000/54000 [==============================] - 165s 3ms/sample - loss: 1.5207 - accuracy: 0.9442 - val_loss: 1.5462 - val_accuracy: 0.9202\n"
     ]
    }
   ],
   "source": [
    "model = Sequential([\n",
    "    Flatten(input_shape=X_train.shape[1:]),\n",
    "    Dense(1000, activation=\"relu\"),\n",
    "    Dense(512, activation=\"relu\"),\n",
    "    Dense(10, activation=\"softmax\")\n",
    "])\n",
    "\n",
    "mc = ModelCheckpoint(\"sgd_op.h5\", monitor=\"val_accuracy\", mode=\"max\", save_best_only=True, verbose=1)\n",
    "model.compile(loss=\"categorical_crossentropy\",\n",
    "              optimizer=tf.keras.optimizers.SGD(learning_rate=0.1),\n",
    "              metrics=[\"accuracy\"])\n",
    "history = model.fit(X_train, y_train, batch_size=32, epochs=10, validation_data=(X_valid, y_valid), callbacks=[mc], shuffle=True)\n",
    "op_histories.append(history)\n",
    "\n",
    "\n",
    "mc = ModelCheckpoint(\"lm_op.h5\", monitor=\"val_accuracy\", mode=\"max\", save_best_only=True, verbose=1)\n",
    "model = Sequential([\n",
    "    Flatten(input_shape=X_train.shape[1:]),\n",
    "    Dense(1000, activation=\"relu\"),\n",
    "    Dense(512, activation=\"relu\"),\n",
    "    Dense(10, activation=\"softmax\")\n",
    "])\n",
    "\n",
    "model_wrapper = lm.ModelWrapper(model)\n",
    "model_wrapper.compile(\n",
    "    optimizer=tf.keras.optimizers.SGD(learning_rate=0.1),\n",
    "    loss=lm.CategoricalCrossentropy(from_logits=True),\n",
    "    metrics=['accuracy'])\n",
    "history = model_wrapper.fit(X_train, y_train, batch_size=32, epochs=10, validation_data=(X_valid, y_valid), callbacks=[mc], shuffle=True)\n",
    "op_histories.append(history)"
   ]
  },
  {
   "cell_type": "code",
   "execution_count": 21,
   "metadata": {},
   "outputs": [
    {
     "data": {
      "text/plain": [
       "[0.38943281504139304, 0.9184]"
      ]
     },
     "execution_count": 21,
     "metadata": {},
     "output_type": "execute_result"
    }
   ],
   "source": [
    "op_histories[0].model.evaluate(X_test, y_test, verbose=0)"
   ]
  },
  {
   "cell_type": "code",
   "execution_count": 22,
   "metadata": {},
   "outputs": [
    {
     "data": {
      "text/plain": [
       "[1.6453197278976441, 0.82]"
      ]
     },
     "execution_count": 22,
     "metadata": {},
     "output_type": "execute_result"
    }
   ],
   "source": [
    "op_histories[1].model.evaluate(X_test, y_test, verbose=0)"
   ]
  },
  {
   "cell_type": "code",
   "execution_count": 31,
   "metadata": {},
   "outputs": [
    {
     "data": {
      "image/png": "[encoded data removed]",
      "text/plain": [
       "<Figure size 1440x720 with 2 Axes>"
      ]
     },
     "metadata": {
      "needs_background": "light"
     },
     "output_type": "display_data"
    }
   ],
   "source": [
    "plt.figure(figsize=(20, 10))\n",
    "plt.subplot(1, 2, 1)\n",
    "plt.title('Learning Curve', fontdict={\"fontsize\":20})\n",
    "plt.plot(op_histories[0].history['val_loss'], color='blue', label='SGD', ls=\"-\")\n",
    "plt.plot(op_histories[1].history['val_loss'], color='orange', label='Levenberg-Marquardt', ls=\"--\")\n",
    "# plt.plot(history3.history['val_loss'], color='red', label='lr=0.01 and big units', ls=\"-.\")\n",
    "# plt.plot(history4.history['val_loss'], color='black', label='lr=0.1 and big units', ls=\":\")\n",
    "# plt.plot(history5.history['val_loss'], color='green', label='lr=0.5 and big units', ls=\":\")\n",
    "plt.xlabel(\"Epochs\", fontdict={\"fontsize\":15})\n",
    "plt.ylabel(\"Loss\", fontdict={\"fontsize\":15})\n",
    "plt.legend()\n",
    "\n",
    "plt.subplot(1, 2, 2)\n",
    "plt.title('Classification Accuracy', fontdict={\"fontsize\":20})\n",
    "plt.plot(op_histories[0].history['val_accuracy'], color='blue', label='SGD', ls=\"-\")\n",
    "plt.plot(op_histories[1].history['val_accuracy'], color='orange', label='Levenberg-Marquardt', ls=\"--\")\n",
    "# plt.plot(history3.history['val_accuracy'], color='red', label='lr=0.01 and big units', ls=\"-.\")\n",
    "# plt.plot(history4.history['val_accuracy'], color='black', label='lr=0.1 and big units', ls=\":\")\n",
    "# plt.plot(history5.history['val_accuracy'], color='green', label='lr=0.5 and big units', ls=\":\")\n",
    "plt.xlabel(\"Epochs\", fontdict={\"fontsize\":15})\n",
    "plt.ylabel(\"Accuracy\", fontdict={\"fontsize\":15})\n",
    "plt.legend()\n",
    "plt.show()"
   ]
  },
  {
   "cell_type": "code",
   "execution_count": 35,
   "metadata": {},
   "outputs": [],
   "source": [
    "op_histories4 = []"
   ]
  },
  {
   "cell_type": "code",
   "execution_count": 40,
   "metadata": {},
   "outputs": [
    {
     "name": "stdout",
     "output_type": "stream",
     "text": [
      "Train on 54000 samples, validate on 6000 samples\n",
      "Epoch 1/10\n",
      "53920/54000 [============================>.] - ETA: 0s - loss: 0.4612 - accuracy: 0.8578\n",
      "Epoch 00001: val_accuracy improved from -inf to 0.90867, saving model to sgd_op.h5\n",
      "54000/54000 [==============================] - 7s 138us/sample - loss: 0.4613 - accuracy: 0.8579 - val_loss: 0.3087 - val_accuracy: 0.9087\n",
      "Epoch 2/10\n",
      "53792/54000 [============================>.] - ETA: 0s - loss: 0.2242 - accuracy: 0.9311\n",
      "Epoch 00002: val_accuracy did not improve from 0.90867\n",
      "54000/54000 [==============================] - 6s 114us/sample - loss: 0.2240 - accuracy: 0.9312 - val_loss: 0.4151 - val_accuracy: 0.8670\n",
      "Epoch 3/10\n",
      "53728/54000 [============================>.] - ETA: 0s - loss: 0.1615 - accuracy: 0.9511\n",
      "Epoch 00003: val_accuracy improved from 0.90867 to 0.93900, saving model to sgd_op.h5\n",
      "54000/54000 [==============================] - 6s 104us/sample - loss: 0.1617 - accuracy: 0.9510 - val_loss: 0.2117 - val_accuracy: 0.9390\n",
      "Epoch 4/10\n",
      "53600/54000 [============================>.] - ETA: 0s - loss: 0.1245 - accuracy: 0.9615\n",
      "Epoch 00004: val_accuracy improved from 0.93900 to 0.94383, saving model to sgd_op.h5\n",
      "54000/54000 [==============================] - 5s 101us/sample - loss: 0.1244 - accuracy: 0.9615 - val_loss: 0.1902 - val_accuracy: 0.9438\n",
      "Epoch 5/10\n",
      "53504/54000 [============================>.] - ETA: 0s - loss: 0.0986 - accuracy: 0.9701\n",
      "Epoch 00005: val_accuracy improved from 0.94383 to 0.94667, saving model to sgd_op.h5\n",
      "54000/54000 [==============================] - 6s 112us/sample - loss: 0.0988 - accuracy: 0.9700 - val_loss: 0.1884 - val_accuracy: 0.9467\n",
      "Epoch 6/10\n",
      "53760/54000 [============================>.] - ETA: 0s - loss: 0.0793 - accuracy: 0.9757\n",
      "Epoch 00006: val_accuracy did not improve from 0.94667\n",
      "54000/54000 [==============================] - 6s 105us/sample - loss: 0.0793 - accuracy: 0.9757 - val_loss: 0.2019 - val_accuracy: 0.9445\n",
      "Epoch 7/10\n",
      "53536/54000 [============================>.] - ETA: 0s - loss: 0.0658 - accuracy: 0.9797\n",
      "Epoch 00007: val_accuracy improved from 0.94667 to 0.94717, saving model to sgd_op.h5\n",
      "54000/54000 [==============================] - 6s 107us/sample - loss: 0.0657 - accuracy: 0.9796 - val_loss: 0.1978 - val_accuracy: 0.9472\n",
      "Epoch 8/10\n",
      "53504/54000 [============================>.] - ETA: 0s - loss: 0.0516 - accuracy: 0.9839\n",
      "Epoch 00008: val_accuracy did not improve from 0.94717\n",
      "54000/54000 [==============================] - 6s 111us/sample - loss: 0.0516 - accuracy: 0.9839 - val_loss: 0.2352 - val_accuracy: 0.9405\n",
      "Epoch 9/10\n",
      "53824/54000 [============================>.] - ETA: 0s - loss: 0.0426 - accuracy: 0.9870\n",
      "Epoch 00009: val_accuracy improved from 0.94717 to 0.94800, saving model to sgd_op.h5\n",
      "54000/54000 [==============================] - 6s 107us/sample - loss: 0.0425 - accuracy: 0.9870 - val_loss: 0.2185 - val_accuracy: 0.9480\n",
      "Epoch 10/10\n",
      "53728/54000 [============================>.] - ETA: 0s - loss: 0.0321 - accuracy: 0.9907\n",
      "Epoch 00010: val_accuracy did not improve from 0.94800\n",
      "54000/54000 [==============================] - 7s 128us/sample - loss: 0.0322 - accuracy: 0.9905 - val_loss: 0.2496 - val_accuracy: 0.9425\n",
      "Train on 54000 samples, validate on 6000 samples\n",
      "Epoch 1/10\n",
      "Epoch 1/10\n",
      "53984/54000 [============================>.] - ETA: 0s - loss: 1.7834 - accuracy: 0.6982\n",
      "Epoch 00001: val_accuracy improved from -inf to 0.80000, saving model to lm_op.h5\n",
      "1688/1688 [==============================] - 152s 90ms/step - loss: 1.7833 - accuracy: 0.6983 - val_loss: 1.6705 - val_accuracy: 0.8000\n",
      "54000/54000 [==============================] - 152s 3ms/sample - loss: 1.7834 - accuracy: 0.6983 - val_loss: 1.6705 - val_accuracy: 0.8000\n",
      "Epoch 2/10\n",
      "Epoch 2/10\n",
      "53984/54000 [============================>.] - ETA: 0s - loss: 1.6304 - accuracy: 0.8386\n",
      "Epoch 00002: val_accuracy improved from 0.80000 to 0.83867, saving model to lm_op.h5\n",
      "1688/1688 [==============================] - 143s 85ms/step - loss: 1.6304 - accuracy: 0.8386 - val_loss: 1.6285 - val_accuracy: 0.8387\n",
      "54000/54000 [==============================] - 143s 3ms/sample - loss: 1.6304 - accuracy: 0.8386 - val_loss: 1.6285 - val_accuracy: 0.8387\n",
      "Epoch 3/10\n",
      "Epoch 3/10\n",
      "53984/54000 [============================>.] - ETA: 0s - loss: 1.6060 - accuracy: 0.8600\n",
      "Epoch 00003: val_accuracy improved from 0.83867 to 0.85500, saving model to lm_op.h5\n",
      "1688/1688 [==============================] - 160s 95ms/step - loss: 1.6059 - accuracy: 0.8600 - val_loss: 1.6115 - val_accuracy: 0.8550\n",
      "54000/54000 [==============================] - 160s 3ms/sample - loss: 1.6060 - accuracy: 0.8600 - val_loss: 1.6115 - val_accuracy: 0.8550\n",
      "Epoch 4/10\n",
      "Epoch 4/10\n",
      "53984/54000 [============================>.] - ETA: 0s - loss: 1.5912 - accuracy: 0.8746\n",
      "Epoch 00004: val_accuracy improved from 0.85500 to 0.85983, saving model to lm_op.h5\n",
      "1688/1688 [==============================] - 160s 95ms/step - loss: 1.5912 - accuracy: 0.8745 - val_loss: 1.6050 - val_accuracy: 0.8598\n",
      "54000/54000 [==============================] - 160s 3ms/sample - loss: 1.5912 - accuracy: 0.8745 - val_loss: 1.6050 - val_accuracy: 0.8598\n",
      "Epoch 5/10\n",
      "Epoch 5/10\n",
      "53984/54000 [============================>.] - ETA: 0s - loss: 1.5800 - accuracy: 0.8853\n",
      "Epoch 00005: val_accuracy improved from 0.85983 to 0.86633, saving model to lm_op.h5\n",
      "1688/1688 [==============================] - 161s 95ms/step - loss: 1.5800 - accuracy: 0.8853 - val_loss: 1.5972 - val_accuracy: 0.8663\n",
      "54000/54000 [==============================] - 161s 3ms/sample - loss: 1.5800 - accuracy: 0.8853 - val_loss: 1.5972 - val_accuracy: 0.8663\n",
      "Epoch 6/10\n",
      "Epoch 6/10\n",
      "53984/54000 [============================>.] - ETA: 0s - loss: 1.5708 - accuracy: 0.8943\n",
      "Epoch 00006: val_accuracy improved from 0.86633 to 0.88000, saving model to lm_op.h5\n",
      "1688/1688 [==============================] - 167s 99ms/step - loss: 1.5708 - accuracy: 0.8943 - val_loss: 1.5845 - val_accuracy: 0.8800\n",
      "54000/54000 [==============================] - 167s 3ms/sample - loss: 1.5708 - accuracy: 0.8943 - val_loss: 1.5845 - val_accuracy: 0.8800\n",
      "Epoch 7/10\n",
      "Epoch 7/10\n",
      "53984/54000 [============================>.] - ETA: 0s - loss: 1.5602 - accuracy: 0.9051\n",
      "Epoch 00007: val_accuracy improved from 0.88000 to 0.88433, saving model to lm_op.h5\n",
      "1688/1688 [==============================] - 158s 94ms/step - loss: 1.5602 - accuracy: 0.9051 - val_loss: 1.5797 - val_accuracy: 0.8843\n",
      "54000/54000 [==============================] - 158s 3ms/sample - loss: 1.5602 - accuracy: 0.9051 - val_loss: 1.5797 - val_accuracy: 0.8843\n",
      "Epoch 8/10\n",
      "Epoch 8/10\n",
      "53984/54000 [============================>.] - ETA: 0s - loss: 1.5524 - accuracy: 0.9127\n",
      "Epoch 00008: val_accuracy improved from 0.88433 to 0.89417, saving model to lm_op.h5\n",
      "1688/1688 [==============================] - 139s 82ms/step - loss: 1.5524 - accuracy: 0.9127 - val_loss: 1.5710 - val_accuracy: 0.8942\n",
      "54000/54000 [==============================] - 139s 3ms/sample - loss: 1.5524 - accuracy: 0.9127 - val_loss: 1.5710 - val_accuracy: 0.8942\n",
      "Epoch 9/10\n",
      "Epoch 9/10\n",
      "53984/54000 [============================>.] - ETA: 0s - loss: 1.5459 - accuracy: 0.9190\n",
      "Epoch 00009: val_accuracy improved from 0.89417 to 0.89650, saving model to lm_op.h5\n",
      "1688/1688 [==============================] - 190s 113ms/step - loss: 1.5459 - accuracy: 0.9190 - val_loss: 1.5667 - val_accuracy: 0.8965\n",
      "54000/54000 [==============================] - 190s 4ms/sample - loss: 1.5459 - accuracy: 0.9190 - val_loss: 1.5667 - val_accuracy: 0.8965\n",
      "Epoch 10/10\n",
      "Epoch 10/10\n",
      "53984/54000 [============================>.] - ETA: 0s - loss: 1.5409 - accuracy: 0.9238\n",
      "Epoch 00010: val_accuracy improved from 0.89650 to 0.89767, saving model to lm_op.h5\n",
      "1688/1688 [==============================] - 183s 108ms/step - loss: 1.5410 - accuracy: 0.9238 - val_loss: 1.5657 - val_accuracy: 0.8977\n",
      "54000/54000 [==============================] - 183s 3ms/sample - loss: 1.5410 - accuracy: 0.9238 - val_loss: 1.5657 - val_accuracy: 0.8977\n"
     ]
    }
   ],
   "source": [
    "model = Sequential([\n",
    "    Flatten(input_shape=X_train.shape[1:]),\n",
    "    Dense(100, activation=\"relu\"),\n",
    "    Dense(50, activation=\"relu\"),\n",
    "    Dense(10, activation=\"softmax\")\n",
    "])\n",
    "\n",
    "\n",
    "mc = ModelCheckpoint(\"sgd_op.h5\", monitor=\"val_accuracy\", mode=\"max\", save_best_only=True, verbose=1)\n",
    "model.compile(loss=\"categorical_crossentropy\",\n",
    "              optimizer=tf.keras.optimizers.SGD(learning_rate=0.1),\n",
    "              metrics=[\"accuracy\"])\n",
    "\n",
    "model_wrapper = lm.ModelWrapper(tf.keras.models.clone_model(model))\n",
    "model_wrapper.compile(\n",
    "    optimizer=tf.keras.optimizers.SGD(learning_rate=0.1),\n",
    "    loss=lm.CategoricalCrossentropy(from_logits=True),\n",
    "    metrics=['accuracy'])\n",
    "history = model.fit(X_train, y_train, batch_size=32, epochs=10, validation_data=(X_valid, y_valid), callbacks=[mc], shuffle=True)\n",
    "op_histories4.append(history)\n",
    "\n",
    "\n",
    "mc = ModelCheckpoint(\"lm_op.h5\", monitor=\"val_accuracy\", mode=\"max\", save_best_only=True, verbose=1)\n",
    "\n",
    "# model = Sequential([\n",
    "#     Flatten(input_shape=X_train.shape[1:]),\n",
    "#     Dense(1000, activation=\"relu\"),\n",
    "#     Dense(512, activation=\"relu\"),\n",
    "#     Dense(10, activation=\"softmax\")\n",
    "# ])\n",
    "\n",
    "history = model_wrapper.fit(X_train, y_train, batch_size=32, epochs=10, validation_data=(X_valid, y_valid), callbacks=[mc], shuffle=True)\n",
    "op_histories4.append(history)"
   ]
  },
  {
   "cell_type": "code",
   "execution_count": 42,
   "metadata": {},
   "outputs": [
    {
     "data": {
      "text/plain": [
       "[<tensorflow.python.keras.callbacks.History at 0x7fcbe1aa7490>,\n",
       " <tensorflow.python.keras.callbacks.History at 0x7fcbdcb0db10>,\n",
       " <tensorflow.python.keras.callbacks.History at 0x7fcbc3353810>,\n",
       " <tensorflow.python.keras.callbacks.History at 0x7fcbc3622410>,\n",
       " <tensorflow.python.keras.callbacks.History at 0x7fcbc41475d0>]"
      ]
     },
     "execution_count": 42,
     "metadata": {},
     "output_type": "execute_result"
    }
   ],
   "source": [
    "op_histories4"
   ]
  },
  {
   "cell_type": "code",
   "execution_count": 43,
   "metadata": {},
   "outputs": [
    {
     "data": {
      "image/png": "[encoded data removed]",
      "text/plain": [
       "<Figure size 1440x720 with 2 Axes>"
      ]
     },
     "metadata": {
      "needs_background": "light"
     },
     "output_type": "display_data"
    }
   ],
   "source": [
    "plt.figure(figsize=(20, 10))\n",
    "plt.subplot(1, 2, 1)\n",
    "plt.title('Learning Curve', fontdict={\"fontsize\":20})\n",
    "plt.plot(op_histories4[3].history['val_loss'], color='blue', label='SGD', ls=\"-\")\n",
    "plt.plot(op_histories4[4].history['val_loss'], color='orange', label='Levenberg-Marquardt', ls=\"--\")\n",
    "# plt.plot(history3.history['val_loss'], color='red', label='lr=0.01 and big units', ls=\"-.\")\n",
    "# plt.plot(history4.history['val_loss'], color='black', label='lr=0.1 and big units', ls=\":\")\n",
    "# plt.plot(history5.history['val_loss'], color='green', label='lr=0.5 and big units', ls=\":\")\n",
    "plt.xlabel(\"Epochs\", fontdict={\"fontsize\":15})\n",
    "plt.ylabel(\"Loss\", fontdict={\"fontsize\":15})\n",
    "plt.legend()\n",
    "\n",
    "plt.subplot(1, 2, 2)\n",
    "plt.title('Classification Accuracy', fontdict={\"fontsize\":20})\n",
    "plt.plot(op_histories4[3].history['val_accuracy'], color='blue', label='SGD', ls=\"-\")\n",
    "plt.plot(op_histories4[4].history['val_accuracy'], color='orange', label='Levenberg-Marquardt', ls=\"--\")\n",
    "# plt.plot(history3.history['val_accuracy'], color='red', label='lr=0.01 and big units', ls=\"-.\")\n",
    "# plt.plot(history4.history['val_accuracy'], color='black', label='lr=0.1 and big units', ls=\":\")\n",
    "# plt.plot(history5.history['val_accuracy'], color='green', label='lr=0.5 and big units', ls=\":\")\n",
    "plt.xlabel(\"Epochs\", fontdict={\"fontsize\":15})\n",
    "plt.ylabel(\"Accuracy\", fontdict={\"fontsize\":15})\n",
    "plt.legend()\n",
    "plt.show()"
   ]
  },
  {
   "cell_type": "code",
   "execution_count": 45,
   "metadata": {},
   "outputs": [
    {
     "data": {
      "text/plain": [
       "[0.547992284052074, 0.8862]"
      ]
     },
     "execution_count": 45,
     "metadata": {},
     "output_type": "execute_result"
    }
   ],
   "source": [
    "op_histories4[3].model.evaluate(X_test, y_test, verbose=0)"
   ]
  },
  {
   "cell_type": "code",
   "execution_count": 47,
   "metadata": {},
   "outputs": [
    {
     "data": {
      "text/plain": [
       "[1.6778834701538086, 0.786]"
      ]
     },
     "execution_count": 47,
     "metadata": {},
     "output_type": "execute_result"
    }
   ],
   "source": [
    "op_histories4[4].model.evaluate(X_test, y_test, verbose=0)"
   ]
  },
  {
   "cell_type": "code",
   "execution_count": null,
   "metadata": {},
   "outputs": [],
   "source": []
  },
  {
   "cell_type": "code",
   "execution_count": 48,
   "metadata": {},
   "outputs": [
    {
     "name": "stdout",
     "output_type": "stream",
     "text": [
      "Train on 54000 samples, validate on 6000 samples\n",
      "Epoch 1/5\n",
      "53792/54000 [============================>.] - ETA: 0s - loss: 0.4653 - accuracy: 0.8550\n",
      "Epoch 00001: val_accuracy improved from -inf to 0.88717, saving model to sgd_op.h5\n",
      "54000/54000 [==============================] - 9s 169us/sample - loss: 0.4647 - accuracy: 0.8551 - val_loss: 0.3648 - val_accuracy: 0.8872\n",
      "Epoch 2/5\n",
      "53728/54000 [============================>.] - ETA: 0s - loss: 0.2175 - accuracy: 0.9338\n",
      "Epoch 00002: val_accuracy improved from 0.88717 to 0.93350, saving model to sgd_op.h5\n",
      "54000/54000 [==============================] - 7s 123us/sample - loss: 0.2175 - accuracy: 0.9338 - val_loss: 0.2342 - val_accuracy: 0.9335\n",
      "Epoch 3/5\n",
      "53920/54000 [============================>.] - ETA: 0s - loss: 0.1575 - accuracy: 0.9514\n",
      "Epoch 00003: val_accuracy improved from 0.93350 to 0.94283, saving model to sgd_op.h5\n",
      "54000/54000 [==============================] - 7s 123us/sample - loss: 0.1574 - accuracy: 0.9515 - val_loss: 0.2071 - val_accuracy: 0.9428\n",
      "Epoch 4/5\n",
      "53920/54000 [============================>.] - ETA: 0s - loss: 0.1228 - accuracy: 0.9621\n",
      "Epoch 00004: val_accuracy improved from 0.94283 to 0.94767, saving model to sgd_op.h5\n",
      "54000/54000 [==============================] - 6s 119us/sample - loss: 0.1227 - accuracy: 0.9621 - val_loss: 0.1980 - val_accuracy: 0.9477\n",
      "Epoch 5/5\n",
      "53632/54000 [============================>.] - ETA: 0s - loss: 0.0958 - accuracy: 0.9703\n",
      "Epoch 00005: val_accuracy did not improve from 0.94767\n",
      "54000/54000 [==============================] - 7s 126us/sample - loss: 0.0959 - accuracy: 0.9702 - val_loss: 0.2110 - val_accuracy: 0.9450\n",
      "Train on 54000 samples, validate on 6000 samples\n",
      "Epoch 1/5\n",
      "Epoch 1/5\n",
      "53984/54000 [============================>.] - ETA: 0s - loss: 1.7006 - accuracy: 0.7706\n",
      "Epoch 00001: val_accuracy improved from -inf to 0.80917, saving model to lm_op.h5\n",
      "1688/1688 [==============================] - 178s 105ms/step - loss: 1.7006 - accuracy: 0.7706 - val_loss: 1.6547 - val_accuracy: 0.8092\n",
      "54000/54000 [==============================] - 178s 3ms/sample - loss: 1.7006 - accuracy: 0.7706 - val_loss: 1.6547 - val_accuracy: 0.8092\n",
      "Epoch 2/5\n",
      "Epoch 2/5\n",
      "53984/54000 [============================>.] - ETA: 0s - loss: 1.6135 - accuracy: 0.8501\n",
      "Epoch 00002: val_accuracy improved from 0.80917 to 0.86700, saving model to lm_op.h5\n",
      "1688/1688 [==============================] - 205s 122ms/step - loss: 1.6135 - accuracy: 0.8501 - val_loss: 1.5972 - val_accuracy: 0.8670\n",
      "54000/54000 [==============================] - 205s 4ms/sample - loss: 1.6135 - accuracy: 0.8501 - val_loss: 1.5972 - val_accuracy: 0.8670\n",
      "Epoch 3/5\n",
      "Epoch 3/5\n",
      "53984/54000 [============================>.] - ETA: 0s - loss: 1.5732 - accuracy: 0.8905\n",
      "Epoch 00003: val_accuracy improved from 0.86700 to 0.87550, saving model to lm_op.h5\n",
      "1688/1688 [==============================] - 233s 138ms/step - loss: 1.5733 - accuracy: 0.8905 - val_loss: 1.5889 - val_accuracy: 0.8755\n",
      "54000/54000 [==============================] - 233s 4ms/sample - loss: 1.5732 - accuracy: 0.8905 - val_loss: 1.5889 - val_accuracy: 0.8755\n",
      "Epoch 4/5\n",
      "Epoch 4/5\n",
      "53984/54000 [============================>.] - ETA: 0s - loss: 1.5578 - accuracy: 0.9050\n",
      "Epoch 00004: val_accuracy improved from 0.87550 to 0.89383, saving model to lm_op.h5\n",
      "1688/1688 [==============================] - 154s 91ms/step - loss: 1.5577 - accuracy: 0.9050 - val_loss: 1.5693 - val_accuracy: 0.8938\n",
      "54000/54000 [==============================] - 154s 3ms/sample - loss: 1.5578 - accuracy: 0.9050 - val_loss: 1.5693 - val_accuracy: 0.8938\n",
      "Epoch 5/5\n",
      "Epoch 5/5\n",
      "53984/54000 [============================>.] - ETA: 0s - loss: 1.5487 - accuracy: 0.9142\n",
      "Epoch 00005: val_accuracy did not improve from 0.89383\n",
      "1688/1688 [==============================] - 207s 122ms/step - loss: 1.5487 - accuracy: 0.9142 - val_loss: 1.5723 - val_accuracy: 0.8907\n",
      "54000/54000 [==============================] - 207s 4ms/sample - loss: 1.5487 - accuracy: 0.9142 - val_loss: 1.5723 - val_accuracy: 0.8907\n"
     ]
    }
   ],
   "source": [
    "model = Sequential([\n",
    "    Flatten(input_shape=X_train.shape[1:]),\n",
    "    Dense(100, activation=\"relu\"),\n",
    "    Dense(50, activation=\"relu\"),\n",
    "    Dense(10, activation=\"softmax\")\n",
    "])\n",
    "\n",
    "\n",
    "mc = ModelCheckpoint(\"sgd_op.h5\", monitor=\"val_accuracy\", mode=\"max\", save_best_only=True, verbose=1)\n",
    "model.compile(loss=\"categorical_crossentropy\",\n",
    "              optimizer=tf.keras.optimizers.SGD(learning_rate=0.1),\n",
    "              metrics=[\"accuracy\"])\n",
    "\n",
    "model_wrapper = lm.ModelWrapper(tf.keras.models.clone_model(model))\n",
    "model_wrapper.compile(\n",
    "    optimizer=tf.keras.optimizers.SGD(learning_rate=0.3),\n",
    "    loss=lm.CategoricalCrossentropy(from_logits=True),\n",
    "    metrics=['accuracy'])\n",
    "history = model.fit(X_train, y_train, batch_size=32, epochs=5, validation_data=(X_valid, y_valid), callbacks=[mc], shuffle=True)\n",
    "op_histories4.append(history)\n",
    "\n",
    "\n",
    "mc = ModelCheckpoint(\"lm_op.h5\", monitor=\"val_accuracy\", mode=\"max\", save_best_only=True, verbose=1)\n",
    "\n",
    "# model = Sequential([\n",
    "#     Flatten(input_shape=X_train.shape[1:]),\n",
    "#     Dense(1000, activation=\"relu\"),\n",
    "#     Dense(512, activation=\"relu\"),\n",
    "#     Dense(10, activation=\"softmax\")\n",
    "# ])\n",
    "\n",
    "history = model_wrapper.fit(X_train, y_train, batch_size=32, epochs=5, validation_data=(X_valid, y_valid), callbacks=[mc], shuffle=True)\n",
    "op_histories4.append(history)"
   ]
  }
 ],
 "metadata": {
  "kernelspec": {
   "display_name": "Python 3 (ipykernel)",
   "language": "python",
   "name": "python3"
  },
  "language_info": {
   "codemirror_mode": {
    "name": "ipython",
    "version": 3
   },
   "file_extension": ".py",
   "mimetype": "text/x-python",
   "name": "python",
   "nbconvert_exporter": "python",
   "pygments_lexer": "ipython3",
   "version": "3.9.7"
  }
 },
 "nbformat": 4,
 "nbformat_minor": 4
}
